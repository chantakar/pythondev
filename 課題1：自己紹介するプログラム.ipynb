{
 "cells": [
  {
   "cell_type": "code",
   "execution_count": 20,
   "id": "e3575efa",
   "metadata": {},
   "outputs": [
    {
     "name": "stdout",
     "output_type": "stream",
     "text": [
      "私の名前は 高橋 です。来年で 48 歳になります。\n"
     ]
    }
   ],
   "source": [
    "# 命令1：名前を入力\n",
    "name = input(\"名前を入力してください: \")\n",
    "\n",
    "# 命令2：年齢を入力（数値に変換）\n",
    "age = int(input(\"現在の年齢を入力してください: \"))\n",
    "\n",
    "# 命令3：結果を表示\n",
    "print(f\"私の名前は {name} です。来年で {age + 1} 歳になります。\")\n"
   ]
  }
 ],
 "metadata": {
  "kernelspec": {
   "display_name": ".venv",
   "language": "python",
   "name": "python3"
  },
  "language_info": {
   "codemirror_mode": {
    "name": "ipython",
    "version": 3
   },
   "file_extension": ".py",
   "mimetype": "text/x-python",
   "name": "python",
   "nbconvert_exporter": "python",
   "pygments_lexer": "ipython3",
   "version": "3.12.10"
  }
 },
 "nbformat": 4,
 "nbformat_minor": 5
}
