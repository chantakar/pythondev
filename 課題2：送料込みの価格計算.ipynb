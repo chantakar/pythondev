{
 "cells": [
  {
   "cell_type": "code",
   "execution_count": 12,
   "id": "073a7e60",
   "metadata": {},
   "outputs": [
    {
     "name": "stdout",
     "output_type": "stream",
     "text": [
      "送料は無料です\n",
      "送料込みの価格は5500円です。\n"
     ]
    }
   ],
   "source": [
    "tax_excluded = input(\"税抜価格を入力してください：\")\n",
    "try:\n",
    "    tax_excluded = float(tax_excluded)\n",
    "    tax_included = round(tax_excluded * 1.1)  # 消費税10%、四捨五入\n",
    "\n",
    "    if tax_included >= 2000:\n",
    "        print(\"送料は無料です\")\n",
    "        print(f\"送料込みの価格は{tax_included}円です。\")\n",
    "    else:\n",
    "        print(\"送料として350円かかります\")\n",
    "        tax_included += 350\n",
    "        print(f\"送料込みの価格は{tax_included}円です。\")\n",
    "except ValueError:\n",
    "    print(\"数値を入力してください。\")"
   ]
  }
 ],
 "metadata": {
  "kernelspec": {
   "display_name": ".venv",
   "language": "python",
   "name": "python3"
  },
  "language_info": {
   "codemirror_mode": {
    "name": "ipython",
    "version": 3
   },
   "file_extension": ".py",
   "mimetype": "text/x-python",
   "name": "python",
   "nbconvert_exporter": "python",
   "pygments_lexer": "ipython3",
   "version": "3.12.10"
  }
 },
 "nbformat": 4,
 "nbformat_minor": 5
}
