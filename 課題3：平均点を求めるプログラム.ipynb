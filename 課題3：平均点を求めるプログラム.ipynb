{
 "cells": [
  {
   "cell_type": "code",
   "execution_count": 6,
   "id": "89255132",
   "metadata": {},
   "outputs": [
    {
     "name": "stdout",
     "output_type": "stream",
     "text": [
      "入力された点数：\n",
      "点数を入力してください：89\n",
      "点数を入力してください：78\n",
      "点数を入力してください：76\n",
      "点数を入力してください：91\n",
      "点数を入力してください：67\n",
      "点数を入力してください：84\n",
      "6人のテストの平均点は80.8点です\n"
     ]
    }
   ],
   "source": [
    "scores = []  # 入力した点数を格納するリスト\n",
    "count = 0\n",
    "total = 0\n",
    "\n",
    "while True:\n",
    "    score = int(input(f\"点数を入力してください：\"))  # 入力を促す\n",
    "    if score == -1:\n",
    "        break\n",
    "    scores.append(score)  # 点数をリストに追加\n",
    "    total += score\n",
    "    count += 1\n",
    "\n",
    "if count > 0:\n",
    "    print(\"入力された点数：\")\n",
    "    for s in scores:\n",
    "        print(f\"点数を入力してください：{s}\")\n",
    "    average = round(total / count, 1)\n",
    "    print(f\"{count}人のテストの平均点は{average}点です\")\n",
    "else:\n",
    "    print(\"点数が入力されませんでした。\")"
   ]
  }
 ],
 "metadata": {
  "kernelspec": {
   "display_name": ".venv",
   "language": "python",
   "name": "python3"
  },
  "language_info": {
   "codemirror_mode": {
    "name": "ipython",
    "version": 3
   },
   "file_extension": ".py",
   "mimetype": "text/x-python",
   "name": "python",
   "nbconvert_exporter": "python",
   "pygments_lexer": "ipython3",
   "version": "3.12.10"
  }
 },
 "nbformat": 4,
 "nbformat_minor": 5
}
